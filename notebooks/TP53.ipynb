{
 "cells": [
  {
   "cell_type": "code",
   "execution_count": 2,
   "metadata": {},
   "outputs": [],
   "source": [
    "import os\n",
    "import numpy as np\n",
    "import scanpy as sc\n",
    "import matplotlib.pyplot as plt\n",
    "import pandas as pd\n",
    "\n",
    "%matplotlib inline"
   ]
  },
  {
   "cell_type": "code",
   "execution_count": 3,
   "metadata": {},
   "outputs": [
    {
     "name": "stdout",
     "output_type": "stream",
     "text": [
      "/Users/flynnzhang/CMU/Spring24/02620-ML4Scientists/scRNA-seq_ML\n"
     ]
    }
   ],
   "source": [
    "data_path = \"data/\"\n",
    "check_path = \"checkpoints/\"\n",
    "table_path = \"tables/\"\n",
    "\n",
    "# os.makedirs(check_path)\n",
    "\n",
    "os.chdir(\"../\")\n",
    "print(os.getcwd())"
   ]
  },
  {
   "cell_type": "code",
   "execution_count": 3,
   "metadata": {},
   "outputs": [
    {
     "data": {
      "text/plain": [
       "AnnData object with n_obs × n_vars = 23873 × 19724\n",
       "    obs: 'Sample', 'Title', 'Marker', 'n_genes', 'n_genes_by_counts', 'log1p_n_genes_by_counts', 'total_counts', 'log1p_total_counts', 'pct_counts_in_top_20_genes', 'pct_counts_mt', 'pct_counts_ribo', 'pct_counts_hb', 'batch', 'kmeans_clusters', 'cell_types'\n",
       "    var: 'n_cells'\n",
       "    uns: 'log1p'\n",
       "    layers: 'counts'"
      ]
     },
     "execution_count": 3,
     "metadata": {},
     "output_type": "execute_result"
    }
   ],
   "source": [
    "# load all combined data\n",
    "all_adata = sc.read_h5ad(check_path + 'combined_labeled.h5ad')\n",
    "\n",
    "all_adata"
   ]
  },
  {
   "cell_type": "code",
   "execution_count": 4,
   "metadata": {},
   "outputs": [
    {
     "data": {
      "text/plain": [
       "cell_types\n",
       "immune cells          10372\n",
       "fibroblasts            9046\n",
       "epithelial cells       3181\n",
       "endothelial cells      1039\n",
       "smooth muscle cell      235\n",
       "Name: count, dtype: int64"
      ]
     },
     "execution_count": 4,
     "metadata": {},
     "output_type": "execute_result"
    }
   ],
   "source": [
    "all_adata.obs.cell_types.value_counts()"
   ]
  },
  {
   "cell_type": "code",
   "execution_count": 5,
   "metadata": {},
   "outputs": [
    {
     "data": {
      "text/plain": [
       "AnnData object with n_obs × n_vars = 3181 × 19724\n",
       "    obs: 'Sample', 'Title', 'Marker', 'n_genes', 'n_genes_by_counts', 'log1p_n_genes_by_counts', 'total_counts', 'log1p_total_counts', 'pct_counts_in_top_20_genes', 'pct_counts_mt', 'pct_counts_ribo', 'pct_counts_hb', 'batch', 'kmeans_clusters', 'cell_types'\n",
       "    var: 'n_cells'\n",
       "    uns: 'log1p'\n",
       "    layers: 'counts'"
      ]
     },
     "execution_count": 5,
     "metadata": {},
     "output_type": "execute_result"
    }
   ],
   "source": [
    "# subset data to only include cells from cell types of interest\n",
    "cell_types_of_interest = ['epithelial cells']\n",
    "adata_subset = all_adata[all_adata.obs.cell_types.isin(cell_types_of_interest)].copy()\n",
    "\n",
    "adata_subset"
   ]
  },
  {
   "cell_type": "code",
   "execution_count": 6,
   "metadata": {},
   "outputs": [
    {
     "data": {
      "text/plain": [
       "(20, 10)"
      ]
     },
     "execution_count": 6,
     "metadata": {},
     "output_type": "execute_result"
    }
   ],
   "source": [
    "# load all genes related to TP53, first row is induced, second is repressed\n",
    "tp53_genes = pd.read_csv(data_path + 'TP53/genes_related.txt', sep='\\t')\n",
    "# Uppercase only the first letter\n",
    "tp53_genes['Gene'] = tp53_genes['Gene'].str.capitalize()\n",
    "induced = tp53_genes[tp53_genes['Relation']=='induced']['Gene']\n",
    "repressed = tp53_genes[tp53_genes['Relation']=='repressed']['Gene']\n",
    "\n",
    "len(induced), len(repressed)"
   ]
  },
  {
   "cell_type": "code",
   "execution_count": 7,
   "metadata": {},
   "outputs": [
    {
     "name": "stdout",
     "output_type": "stream",
     "text": [
      "18\n",
      "10\n"
     ]
    }
   ],
   "source": [
    "# See if TP53-related genes are present in the data\n",
    "induced_present = [gene for gene in induced if gene in adata_subset.var_names]\n",
    "repressed_present = [gene for gene in repressed if gene in adata_subset.var_names]\n",
    "\n",
    "print(len(induced_present))\n",
    "print(len(repressed_present))"
   ]
  },
  {
   "cell_type": "markdown",
   "metadata": {},
   "source": [
    "# Regression\n",
    "\n",
    "#### List of cell types that are worth exploring:\n",
    "- Immune cells\n",
    "- Fibroblasts\n",
    "- Endothelial cells\n",
    "- Epithelial cells"
   ]
  },
  {
   "cell_type": "markdown",
   "metadata": {},
   "source": [
    "TFs downloaded form [tfcheckpoint](https://www.tfcheckpoint.org/)"
   ]
  },
  {
   "cell_type": "code",
   "execution_count": 8,
   "metadata": {},
   "outputs": [
    {
     "name": "stdout",
     "output_type": "stream",
     "text": [
      "Total TFs of mouse: 2733\n",
      "Total genes in ['epithelial cells'] 19724\n",
      "Total TFs present in ['epithelial cells'] 57\n"
     ]
    }
   ],
   "source": [
    "# load all tfs\n",
    "tfs = pd.read_csv(data_path + \"TFs/tfs.txt\", sep=\"\\t\")\n",
    "\n",
    "# we need mouse tfs\n",
    "TFs_mouse = tfs[tfs['Mouse_entrez'].notna()]['Gene_symbol'].values\n",
    "print('Total TFs of mouse:', len(TFs_mouse))\n",
    "TFs_mouse = [x for x in TFs_mouse if x in adata_subset.var_names]\n",
    "\n",
    "print('Total genes in', cell_types_of_interest,len(adata_subset.var_names))\n",
    "print('Total TFs present in', cell_types_of_interest, len(TFs_mouse))"
   ]
  },
  {
   "cell_type": "code",
   "execution_count": 9,
   "metadata": {},
   "outputs": [
    {
     "data": {
      "text/plain": [
       "AnnData object with n_obs × n_vars = 3181 × 85\n",
       "    obs: 'Sample', 'Title', 'Marker', 'n_genes', 'n_genes_by_counts', 'log1p_n_genes_by_counts', 'total_counts', 'log1p_total_counts', 'pct_counts_in_top_20_genes', 'pct_counts_mt', 'pct_counts_ribo', 'pct_counts_hb', 'batch', 'kmeans_clusters', 'cell_types'\n",
       "    var: 'n_cells'\n",
       "    uns: 'log1p'\n",
       "    layers: 'counts'"
      ]
     },
     "execution_count": 9,
     "metadata": {},
     "output_type": "execute_result"
    }
   ],
   "source": [
    "# subset data to only include TP53-related genes and present TFs\n",
    "# use unique\n",
    "genes_of_interest = np.unique(list(induced_present) + list(repressed_present) + list(TFs_mouse))\n",
    "adata_sub_hp53 = adata_subset[:, genes_of_interest].copy()\n",
    "\n",
    "adata_sub_hp53"
   ]
  },
  {
   "cell_type": "code",
   "execution_count": 10,
   "metadata": {},
   "outputs": [
    {
     "data": {
      "text/html": [
       "<div>\n",
       "<style scoped>\n",
       "    .dataframe tbody tr th:only-of-type {\n",
       "        vertical-align: middle;\n",
       "    }\n",
       "\n",
       "    .dataframe tbody tr th {\n",
       "        vertical-align: top;\n",
       "    }\n",
       "\n",
       "    .dataframe thead th {\n",
       "        text-align: right;\n",
       "    }\n",
       "</style>\n",
       "<table border=\"1\" class=\"dataframe\">\n",
       "  <thead>\n",
       "    <tr style=\"text-align: right;\">\n",
       "      <th></th>\n",
       "      <th>n_cells</th>\n",
       "      <th>gene_type</th>\n",
       "    </tr>\n",
       "  </thead>\n",
       "  <tbody>\n",
       "    <tr>\n",
       "      <th>A430033K04Rik</th>\n",
       "      <td>199</td>\n",
       "      <td>TF</td>\n",
       "    </tr>\n",
       "    <tr>\n",
       "      <th>Acad11</th>\n",
       "      <td>1573</td>\n",
       "      <td>target</td>\n",
       "    </tr>\n",
       "    <tr>\n",
       "      <th>Aen</th>\n",
       "      <td>6031</td>\n",
       "      <td>target</td>\n",
       "    </tr>\n",
       "    <tr>\n",
       "      <th>Aicda</th>\n",
       "      <td>23</td>\n",
       "      <td>TF</td>\n",
       "    </tr>\n",
       "    <tr>\n",
       "      <th>Aldh4a1</th>\n",
       "      <td>1201</td>\n",
       "      <td>target</td>\n",
       "    </tr>\n",
       "    <tr>\n",
       "      <th>...</th>\n",
       "      <td>...</td>\n",
       "      <td>...</td>\n",
       "    </tr>\n",
       "    <tr>\n",
       "      <th>Zfp809</th>\n",
       "      <td>1528</td>\n",
       "      <td>TF</td>\n",
       "    </tr>\n",
       "    <tr>\n",
       "      <th>Zfp84</th>\n",
       "      <td>3233</td>\n",
       "      <td>TF</td>\n",
       "    </tr>\n",
       "    <tr>\n",
       "      <th>Zfp955a</th>\n",
       "      <td>726</td>\n",
       "      <td>TF</td>\n",
       "    </tr>\n",
       "    <tr>\n",
       "      <th>Zim1</th>\n",
       "      <td>43</td>\n",
       "      <td>TF</td>\n",
       "    </tr>\n",
       "    <tr>\n",
       "      <th>Zmat3</th>\n",
       "      <td>2709</td>\n",
       "      <td>target</td>\n",
       "    </tr>\n",
       "  </tbody>\n",
       "</table>\n",
       "<p>85 rows × 2 columns</p>\n",
       "</div>"
      ],
      "text/plain": [
       "               n_cells gene_type\n",
       "A430033K04Rik      199        TF\n",
       "Acad11            1573    target\n",
       "Aen               6031    target\n",
       "Aicda               23        TF\n",
       "Aldh4a1           1201    target\n",
       "...                ...       ...\n",
       "Zfp809            1528        TF\n",
       "Zfp84             3233        TF\n",
       "Zfp955a            726        TF\n",
       "Zim1                43        TF\n",
       "Zmat3             2709    target\n",
       "\n",
       "[85 rows x 2 columns]"
      ]
     },
     "execution_count": 10,
     "metadata": {},
     "output_type": "execute_result"
    }
   ],
   "source": [
    "# label genes with TF, target, or both in adata\n",
    "adata_sub_hp53.var['gene_type'] = 'target'\n",
    "adata_sub_hp53.var.loc[adata_sub_hp53.var_names.isin(TFs_mouse), 'gene_type'] = 'TF'\n",
    "\n",
    "\n",
    "# Those that are both in TFs_mouse and induced_present or repressed_present\n",
    "adata_sub_hp53.var.loc[adata_sub_hp53.var_names.isin(tp53_genes['Gene'].to_list()) & adata_sub_hp53.var_names.isin(TFs_mouse), 'gene_type'] = 'both'\n",
    "\n",
    "adata_sub_hp53.var"
   ]
  },
  {
   "cell_type": "code",
   "execution_count": 11,
   "metadata": {},
   "outputs": [
    {
     "data": {
      "text/plain": [
       "AnnData object with n_obs × n_vars = 3181 × 85\n",
       "    obs: 'Sample', 'Title', 'Marker', 'n_genes', 'n_genes_by_counts', 'log1p_n_genes_by_counts', 'total_counts', 'log1p_total_counts', 'pct_counts_in_top_20_genes', 'pct_counts_mt', 'pct_counts_ribo', 'pct_counts_hb', 'batch', 'kmeans_clusters', 'cell_types'\n",
       "    var: 'n_cells', 'gene_type'\n",
       "    uns: 'log1p'\n",
       "    layers: 'counts'"
      ]
     },
     "execution_count": 11,
     "metadata": {},
     "output_type": "execute_result"
    }
   ],
   "source": [
    "adata_sub_hp53"
   ]
  },
  {
   "cell_type": "code",
   "execution_count": 12,
   "metadata": {},
   "outputs": [
    {
     "data": {
      "text/plain": [
       "View of AnnData object with n_obs × n_vars = 3181 × 81\n",
       "    obs: 'Sample', 'Title', 'Marker', 'n_genes', 'n_genes_by_counts', 'log1p_n_genes_by_counts', 'total_counts', 'log1p_total_counts', 'pct_counts_in_top_20_genes', 'pct_counts_mt', 'pct_counts_ribo', 'pct_counts_hb', 'batch', 'kmeans_clusters', 'cell_types'\n",
       "    var: 'n_cells', 'gene_type'\n",
       "    uns: 'log1p'\n",
       "    layers: 'counts'"
      ]
     },
     "execution_count": 12,
     "metadata": {},
     "output_type": "execute_result"
    }
   ],
   "source": [
    "# remove genes with 0 variance\n",
    "variances = np.var(adata_sub_hp53.X.toarray(), axis=0)\n",
    "non_zero_variance_mask = variances > 0\n",
    "adata_sub_hp53 = adata_sub_hp53[:, non_zero_variance_mask]\n",
    "\n",
    "adata_sub_hp53"
   ]
  },
  {
   "cell_type": "code",
   "execution_count": 13,
   "metadata": {},
   "outputs": [
    {
     "name": "stderr",
     "output_type": "stream",
     "text": [
      "/Users/flynnzhang/anaconda3/envs/seq/lib/python3.12/site-packages/anndata/_core/anndata.py:1209: ImplicitModificationWarning: Trying to modify attribute `.var` of view, initializing view as actual.\n",
      "  df[key] = c\n"
     ]
    }
   ],
   "source": [
    "# use combat to correct for batch effects and rule out unwanted sources of variation\n",
    "sc.pp.combat(adata_sub_hp53, key='batch', covariates=['total_counts'])\n",
    "\n",
    "# scale each gene to unit variance, clip values exceeding SD 10\n",
    "sc.pp.scale(adata_sub_hp53, max_value=10)"
   ]
  },
  {
   "cell_type": "code",
   "execution_count": 15,
   "metadata": {},
   "outputs": [
    {
     "data": {
      "text/plain": [
       "AnnData object with n_obs × n_vars = 3181 × 81\n",
       "    obs: 'Sample', 'Title', 'Marker', 'n_genes', 'n_genes_by_counts', 'log1p_n_genes_by_counts', 'total_counts', 'log1p_total_counts', 'pct_counts_in_top_20_genes', 'pct_counts_mt', 'pct_counts_ribo', 'pct_counts_hb', 'batch', 'kmeans_clusters', 'cell_types'\n",
       "    var: 'n_cells', 'gene_type', 'mean', 'std'\n",
       "    uns: 'log1p'\n",
       "    layers: 'counts'"
      ]
     },
     "execution_count": 15,
     "metadata": {},
     "output_type": "execute_result"
    }
   ],
   "source": [
    "adata_sub_hp53"
   ]
  },
  {
   "cell_type": "code",
   "execution_count": 14,
   "metadata": {},
   "outputs": [],
   "source": [
    "# write to h5ad\n",
    "adata_sub_hp53.write_h5ad(check_path + 'ready_for_regression.h5ad')"
   ]
  },
  {
   "cell_type": "markdown",
   "metadata": {},
   "source": [
    "## OLS and Ridge Regression"
   ]
  },
  {
   "cell_type": "code",
   "execution_count": 4,
   "metadata": {},
   "outputs": [
    {
     "data": {
      "text/plain": [
       "AnnData object with n_obs × n_vars = 3181 × 81\n",
       "    obs: 'Sample', 'Title', 'Marker', 'n_genes', 'n_genes_by_counts', 'log1p_n_genes_by_counts', 'total_counts', 'log1p_total_counts', 'pct_counts_in_top_20_genes', 'pct_counts_mt', 'pct_counts_ribo', 'pct_counts_hb', 'batch', 'kmeans_clusters', 'cell_types'\n",
       "    var: 'n_cells', 'gene_type', 'mean', 'std'\n",
       "    uns: 'log1p'\n",
       "    layers: 'counts'"
      ]
     },
     "execution_count": 4,
     "metadata": {},
     "output_type": "execute_result"
    }
   ],
   "source": [
    "# load adata that's ready for regression\n",
    "adata_sub_hp53 = sc.read_h5ad(check_path + 'ready_for_regression.h5ad')\n",
    "\n",
    "adata_sub_hp53"
   ]
  },
  {
   "cell_type": "code",
   "execution_count": 5,
   "metadata": {},
   "outputs": [],
   "source": [
    "import statsmodels.api as sm\n",
    "from sklearn.linear_model import Ridge\n",
    "from sklearn.preprocessing import StandardScaler\n",
    "\n",
    "# OLS and Ridge regression\n",
    "# alpha: regularization strength for Ridge regression\n",
    "def fit_model(adata, method, alpha=1):\n",
    "    results = {}\n",
    "    tf_list = adata.var[(adata.var['gene_type'] == 'TF') | (adata.var['gene_type'] == 'both')].index\n",
    "    \n",
    "    print('Initializing ' + method + ' regression model...')\n",
    "    \n",
    "    for tf in tf_list:\n",
    "        print('Fitting models for', tf)\n",
    "        Y = adata[:, tf].X\n",
    "        \n",
    "        # X are expr of all target genes or both\n",
    "        genes_for_X = adata.var[(adata.var['gene_type'] != 'TF') & (adata.var['gene_type'] != tf)].index\n",
    "        X = adata.X[:, adata.var_names.isin(genes_for_X)]\n",
    "        \n",
    "        # Standardize features\n",
    "        scaler = StandardScaler()\n",
    "        X_scaled = scaler.fit_transform(X)\n",
    "\n",
    "        # OLS regression\n",
    "        if method == 'OLS':\n",
    "            X_ols = sm.add_constant(X_scaled)\n",
    "            model = sm.OLS(Y, X_ols)\n",
    "            result = model.fit()\n",
    "            \n",
    "\n",
    "        # Ridge regression\n",
    "        if method == 'Ridge':\n",
    "            model = Ridge(alpha=alpha)\n",
    "            result = model.fit(X_scaled, Y)\n",
    "            \n",
    "        # Save the results\n",
    "        results[tf] = result\n",
    "        \n",
    "    return results"
   ]
  },
  {
   "cell_type": "code",
   "execution_count": 6,
   "metadata": {},
   "outputs": [
    {
     "name": "stdout",
     "output_type": "stream",
     "text": [
      "Initializing OLS regression model...\n",
      "Fitting models for A430033K04Rik\n"
     ]
    },
    {
     "name": "stdout",
     "output_type": "stream",
     "text": [
      "Fitting models for Arap1\n",
      "Fitting models for Arglu1\n",
      "Fitting models for Arhgap22\n",
      "Fitting models for Asf1a\n",
      "Fitting models for Basp1\n",
      "Fitting models for Borcs8\n",
      "Fitting models for Btn1a1\n",
      "Fitting models for Cdc42bpg\n",
      "Fitting models for Chmp1a\n",
      "Fitting models for Csprs\n",
      "Fitting models for Cys1\n",
      "Fitting models for Dpy30\n",
      "Fitting models for Ecsit\n",
      "Fitting models for Eif4a3\n",
      "Fitting models for Elp4\n",
      "Fitting models for Fgf11\n",
      "Fitting models for Fgf2\n",
      "Fitting models for Gnas\n",
      "Fitting models for Ikbkg\n",
      "Fitting models for Med29\n",
      "Fitting models for Msx3\n",
      "Fitting models for Ndufa13\n",
      "Fitting models for Npm2\n",
      "Fitting models for Nup62\n",
      "Fitting models for P2rx2\n",
      "Fitting models for Pak6\n",
      "Fitting models for Ppp1r15a\n",
      "Fitting models for Pus1\n",
      "Fitting models for Rad54l2\n",
      "Fitting models for Rhox5\n",
      "Fitting models for Ripply1\n",
      "Fitting models for Rnf141\n",
      "Fitting models for Rpf2\n",
      "Fitting models for Rpl11\n",
      "Fitting models for Setdb2\n",
      "Fitting models for Spop\n",
      "Fitting models for Traf7\n",
      "Fitting models for Treml1\n",
      "Fitting models for Trib2\n",
      "Fitting models for Tsc22d4\n",
      "Fitting models for Ube2i\n",
      "Fitting models for Vhl\n",
      "Fitting models for Wtip\n",
      "Fitting models for Zfp11\n",
      "Fitting models for Zfp120\n",
      "Fitting models for Zfp54\n",
      "Fitting models for Zfp563\n",
      "Fitting models for Zfp58\n",
      "Fitting models for Zfp809\n",
      "Fitting models for Zfp84\n",
      "Fitting models for Zfp955a\n",
      "Fitting models for Zim1\n"
     ]
    }
   ],
   "source": [
    "# Fit the models\n",
    "ols_res = fit_model(adata_sub_hp53, 'OLS')"
   ]
  },
  {
   "cell_type": "code",
   "execution_count": 7,
   "metadata": {},
   "outputs": [
    {
     "data": {
      "text/plain": [
       "A430033K04Rik    0.005493\n",
       "Arap1            0.011142\n",
       "Arglu1           0.030694\n",
       "Arhgap22         0.017159\n",
       "Asf1a            0.037474\n",
       "Basp1            0.070636\n",
       "Borcs8           0.025874\n",
       "Btn1a1           0.010331\n",
       "Cdc42bpg         0.010972\n",
       "Chmp1a           0.022253\n",
       "Csprs            0.054305\n",
       "Cys1             0.017219\n",
       "Dpy30            0.091057\n",
       "Ecsit            0.032886\n",
       "Eif4a3           0.061292\n",
       "Elp4             0.013853\n",
       "Fgf11            0.009001\n",
       "Fgf2             0.015072\n",
       "Gnas             0.052085\n",
       "Ikbkg            0.015430\n",
       "Med29            0.042068\n",
       "Msx3             0.005800\n",
       "Ndufa13          0.068734\n",
       "Npm2             0.012148\n",
       "Nup62            0.050585\n",
       "P2rx2            0.092757\n",
       "Pak6             0.031428\n",
       "Ppp1r15a         0.305253\n",
       "Pus1             0.041181\n",
       "Rad54l2          0.020950\n",
       "Rhox5            0.029514\n",
       "Ripply1          0.002845\n",
       "Rnf141           0.012362\n",
       "Rpf2             0.044848\n",
       "Rpl11            0.151423\n",
       "Setdb2           0.010976\n",
       "Spop             0.020269\n",
       "Traf7            0.029342\n",
       "Treml1           0.004924\n",
       "Trib2            0.014112\n",
       "Tsc22d4          0.028300\n",
       "Ube2i            0.071006\n",
       "Vhl              0.011040\n",
       "Wtip             0.033075\n",
       "Zfp11            0.009151\n",
       "Zfp120           0.018544\n",
       "Zfp54            0.008124\n",
       "Zfp563           0.015224\n",
       "Zfp58            0.008095\n",
       "Zfp809           0.017773\n",
       "Zfp84            0.021747\n",
       "Zfp955a          0.015746\n",
       "Zim1             0.003826\n",
       "dtype: float64"
      ]
     },
     "execution_count": 7,
     "metadata": {},
     "output_type": "execute_result"
    }
   ],
   "source": [
    "# get r-sqaure for all models\n",
    "r2_ols = {tf: res.rsquared for tf, res in ols_res.items()}\n",
    "r2_ols = pd.Series(r2_ols)\n",
    "\n",
    "r2_ols"
   ]
  },
  {
   "cell_type": "code",
   "execution_count": null,
   "metadata": {},
   "outputs": [],
   "source": []
  }
 ],
 "metadata": {
  "kernelspec": {
   "display_name": "seq",
   "language": "python",
   "name": "python3"
  },
  "language_info": {
   "codemirror_mode": {
    "name": "ipython",
    "version": 3
   },
   "file_extension": ".py",
   "mimetype": "text/x-python",
   "name": "python",
   "nbconvert_exporter": "python",
   "pygments_lexer": "ipython3",
   "version": "3.12.3"
  }
 },
 "nbformat": 4,
 "nbformat_minor": 2
}
