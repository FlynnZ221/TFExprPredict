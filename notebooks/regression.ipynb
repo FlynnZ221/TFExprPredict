{
 "cells": [
  {
   "cell_type": "code",
   "execution_count": 1,
   "metadata": {},
   "outputs": [],
   "source": [
    "import os\n",
    "import numpy as np\n",
    "import scanpy as sc\n",
    "import matplotlib.pyplot as plt\n",
    "import pandas as pd\n",
    "import seaborn as sns\n",
    "import statsmodels.api as sm\n",
    "\n",
    "\n",
    "%matplotlib inline"
   ]
  },
  {
   "cell_type": "code",
   "execution_count": 2,
   "metadata": {},
   "outputs": [
    {
     "name": "stdout",
     "output_type": "stream",
     "text": [
      "/Users/flynnzhang/CMU/Spring24/02620-ML4Scientists/scRNA-seq_ML\n"
     ]
    }
   ],
   "source": [
    "data_path = \"data/\"\n",
    "check_path = \"checkpoints/\"\n",
    "\n",
    "# os.makedirs(check_path)\n",
    "\n",
    "os.chdir(\"../\")\n",
    "print(os.getcwd())"
   ]
  },
  {
   "cell_type": "markdown",
   "metadata": {},
   "source": [
    "# Regression\n",
    "\n",
    "#### List of cell types that are worth exploring:\n",
    "- Immune cells\n",
    "- Fibroblasts\n",
    "- Endothelial cells\n",
    "- Epithelial cells"
   ]
  },
  {
   "cell_type": "code",
   "execution_count": 4,
   "metadata": {},
   "outputs": [
    {
     "data": {
      "text/plain": [
       "AnnData object with n_obs × n_vars = 23873 × 2723\n",
       "    obs: 'Sample', 'Title', 'Marker', 'n_genes', 'n_genes_by_counts', 'log1p_n_genes_by_counts', 'total_counts', 'log1p_total_counts', 'pct_counts_in_top_20_genes', 'pct_counts_mt', 'pct_counts_ribo', 'pct_counts_hb', 'batch', 'kmeans_clusters'\n",
       "    var: 'n_cells', 'highly_variable', 'means', 'dispersions', 'dispersions_norm', 'mean', 'std'\n",
       "    uns: 'batch_colors', 'hvg', 'kmeans_clusters_colors', 'log1p', 'neighbors', 'umap'\n",
       "    obsm: 'X_pca', 'X_pca_harmony', 'X_umap'\n",
       "    layers: 'counts'\n",
       "    obsp: 'connectivities', 'distances'"
      ]
     },
     "execution_count": 4,
     "metadata": {},
     "output_type": "execute_result"
    }
   ],
   "source": [
    "adata = sc.read_h5ad(check_path + 'clustered.h5ad')\n",
    "\n",
    "adata"
   ]
  },
  {
   "cell_type": "code",
   "execution_count": 12,
   "metadata": {},
   "outputs": [
    {
     "data": {
      "text/html": [
       "<div>\n",
       "<style scoped>\n",
       "    .dataframe tbody tr th:only-of-type {\n",
       "        vertical-align: middle;\n",
       "    }\n",
       "\n",
       "    .dataframe tbody tr th {\n",
       "        vertical-align: top;\n",
       "    }\n",
       "\n",
       "    .dataframe thead th {\n",
       "        text-align: right;\n",
       "    }\n",
       "</style>\n",
       "<table border=\"1\" class=\"dataframe\">\n",
       "  <thead>\n",
       "    <tr style=\"text-align: right;\">\n",
       "      <th></th>\n",
       "      <th>Gene_symbol</th>\n",
       "      <th>Gene_Name</th>\n",
       "      <th>Synonyms</th>\n",
       "      <th>Human_entrez</th>\n",
       "      <th>Mouse_entrez</th>\n",
       "      <th>Rat_entrez</th>\n",
       "    </tr>\n",
       "  </thead>\n",
       "  <tbody>\n",
       "    <tr>\n",
       "      <th>0</th>\n",
       "      <td>A430033K04Rik</td>\n",
       "      <td>-</td>\n",
       "      <td>-</td>\n",
       "      <td>NaN</td>\n",
       "      <td>243308.0</td>\n",
       "      <td>304336.0</td>\n",
       "    </tr>\n",
       "    <tr>\n",
       "      <th>1</th>\n",
       "      <td>AASS</td>\n",
       "      <td>Alpha-aminoadipic semialdehyde synthase, mitoc...</td>\n",
       "      <td>LORSDH LKRSDH</td>\n",
       "      <td>10157.0</td>\n",
       "      <td>NaN</td>\n",
       "      <td>NaN</td>\n",
       "    </tr>\n",
       "    <tr>\n",
       "      <th>2</th>\n",
       "      <td>AATF</td>\n",
       "      <td>Protein AATF</td>\n",
       "      <td>DED CHE-1 CHE1 BFR2</td>\n",
       "      <td>26574.0</td>\n",
       "      <td>56321.0</td>\n",
       "      <td>114512.0</td>\n",
       "    </tr>\n",
       "    <tr>\n",
       "      <th>3</th>\n",
       "      <td>ABL1</td>\n",
       "      <td>Tyrosine-protein kinase ABL1</td>\n",
       "      <td>JTK7 c-ABL p150</td>\n",
       "      <td>25.0</td>\n",
       "      <td>11350.0</td>\n",
       "      <td>100909750.0</td>\n",
       "    </tr>\n",
       "    <tr>\n",
       "      <th>4</th>\n",
       "      <td>ABRA</td>\n",
       "      <td>Actin-binding Rho-activating protein</td>\n",
       "      <td>STARS</td>\n",
       "      <td>137735.0</td>\n",
       "      <td>223513.0</td>\n",
       "      <td>286965.0</td>\n",
       "    </tr>\n",
       "    <tr>\n",
       "      <th>...</th>\n",
       "      <td>...</td>\n",
       "      <td>...</td>\n",
       "      <td>...</td>\n",
       "      <td>...</td>\n",
       "      <td>...</td>\n",
       "      <td>...</td>\n",
       "    </tr>\n",
       "    <tr>\n",
       "      <th>3549</th>\n",
       "      <td>ZXDA</td>\n",
       "      <td>Zinc finger X-linked protein ZXDA</td>\n",
       "      <td>ZNF896</td>\n",
       "      <td>7789.0</td>\n",
       "      <td>668166.0</td>\n",
       "      <td>NaN</td>\n",
       "    </tr>\n",
       "    <tr>\n",
       "      <th>3550</th>\n",
       "      <td>ZXDB</td>\n",
       "      <td>Zinc finger X-linked protein ZXDB</td>\n",
       "      <td>ZNF905</td>\n",
       "      <td>158586.0</td>\n",
       "      <td>668166.0</td>\n",
       "      <td>NaN</td>\n",
       "    </tr>\n",
       "    <tr>\n",
       "      <th>3551</th>\n",
       "      <td>ZXDC</td>\n",
       "      <td>Zinc finger protein ZXDC</td>\n",
       "      <td>MGC11349 FLJ13861</td>\n",
       "      <td>79364.0</td>\n",
       "      <td>80292.0</td>\n",
       "      <td>362399.0</td>\n",
       "    </tr>\n",
       "    <tr>\n",
       "      <th>3552</th>\n",
       "      <td>ZYX</td>\n",
       "      <td>Zyxin</td>\n",
       "      <td>-</td>\n",
       "      <td>7791.0</td>\n",
       "      <td>NaN</td>\n",
       "      <td>NaN</td>\n",
       "    </tr>\n",
       "    <tr>\n",
       "      <th>3553</th>\n",
       "      <td>ZZZ3</td>\n",
       "      <td>ZZ-type zinc finger-containing protein 3</td>\n",
       "      <td>DKFZP564I052 ATAC1</td>\n",
       "      <td>26009.0</td>\n",
       "      <td>108946.0</td>\n",
       "      <td>310958.0</td>\n",
       "    </tr>\n",
       "  </tbody>\n",
       "</table>\n",
       "<p>3554 rows × 6 columns</p>\n",
       "</div>"
      ],
      "text/plain": [
       "        Gene_symbol                                          Gene_Name  \\\n",
       "0     A430033K04Rik                                                  -   \n",
       "1              AASS  Alpha-aminoadipic semialdehyde synthase, mitoc...   \n",
       "2              AATF                                      Protein AATF    \n",
       "3              ABL1                      Tyrosine-protein kinase ABL1    \n",
       "4              ABRA              Actin-binding Rho-activating protein    \n",
       "...             ...                                                ...   \n",
       "3549           ZXDA                  Zinc finger X-linked protein ZXDA   \n",
       "3550           ZXDB                  Zinc finger X-linked protein ZXDB   \n",
       "3551           ZXDC                          Zinc finger protein ZXDC    \n",
       "3552            ZYX                                             Zyxin    \n",
       "3553           ZZZ3           ZZ-type zinc finger-containing protein 3   \n",
       "\n",
       "                 Synonyms  Human_entrez  Mouse_entrez   Rat_entrez  \n",
       "0                       -           NaN      243308.0     304336.0  \n",
       "1           LORSDH LKRSDH       10157.0           NaN          NaN  \n",
       "2     DED CHE-1 CHE1 BFR2       26574.0       56321.0     114512.0  \n",
       "3         JTK7 c-ABL p150          25.0       11350.0  100909750.0  \n",
       "4                   STARS      137735.0      223513.0     286965.0  \n",
       "...                   ...           ...           ...          ...  \n",
       "3549               ZNF896        7789.0      668166.0          NaN  \n",
       "3550               ZNF905      158586.0      668166.0          NaN  \n",
       "3551    MGC11349 FLJ13861       79364.0       80292.0     362399.0  \n",
       "3552                    -        7791.0           NaN          NaN  \n",
       "3553   DKFZP564I052 ATAC1       26009.0      108946.0     310958.0  \n",
       "\n",
       "[3554 rows x 6 columns]"
      ]
     },
     "execution_count": 12,
     "metadata": {},
     "output_type": "execute_result"
    }
   ],
   "source": [
    "# load all tfs\n",
    "tfs = pd.read_csv(data_path + \"TFs/tfs.txt\", sep=\"\\t\")\n",
    "\n",
    "tfs"
   ]
  },
  {
   "cell_type": "code",
   "execution_count": 23,
   "metadata": {},
   "outputs": [
    {
     "name": "stdout",
     "output_type": "stream",
     "text": [
      "Total genes: 2723\n",
      "Total present TFs: 4\n"
     ]
    }
   ],
   "source": [
    "# we need mouse tfs\n",
    "TFs_mouse = tfs[tfs['Mouse_entrez'].notna()]['Gene_symbol'].values\n",
    "TFs_mouse = [x for x in TFs_mouse if x in adata.var_names]\n",
    "\n",
    "print('Total genes:', len(adata.var_names))\n",
    "print('Total present TFs:', len(TFs_mouse))"
   ]
  },
  {
   "cell_type": "markdown",
   "metadata": {},
   "source": [
    "## Linear Regression"
   ]
  },
  {
   "cell_type": "code",
   "execution_count": 38,
   "metadata": {},
   "outputs": [],
   "source": [
    "import statsmodels.api as sm\n",
    "\n",
    "# 'TFs_mouse': list of TFs in mouse\n",
    "def OLS(adata, tf_list):\n",
    "    results = {}\n",
    "    \n",
    "    for tf in tf_list:\n",
    "        Y = adata[:, tf].X\n",
    "        X = adata.X[:, ~adata.var_names.isin([tf])] # remove the TF from the gene list\n",
    "        X = sm.add_constant(X) # add constant term\n",
    "\n",
    "        model = sm.OLS(Y, X)\n",
    "        results[tf] = model.fit() # save the results for each model\n",
    "        \n",
    "    return results\n",
    "\n",
    "OLS_res = OLS(adata, TFs_mouse)"
   ]
  },
  {
   "cell_type": "code",
   "execution_count": 39,
   "metadata": {},
   "outputs": [
    {
     "name": "stdout",
     "output_type": "stream",
     "text": [
      "TFs: dict_keys(['Csprs', 'Fgf2', 'Rhox5', 'Trib2'])\n",
      "R-squared: [0.43436670324187987, 0.43202000073937996, 0.1510256947215608, 0.40364636670694787]\n"
     ]
    }
   ],
   "source": [
    "# see the results\n",
    "print('TFs:', OLS_res.keys())\n",
    "# print all r-squared values\n",
    "print('R-squared:', [OLS_res[tf].rsquared for tf in OLS_res.keys()])"
   ]
  },
  {
   "cell_type": "code",
   "execution_count": null,
   "metadata": {},
   "outputs": [],
   "source": []
  },
  {
   "cell_type": "code",
   "execution_count": null,
   "metadata": {},
   "outputs": [],
   "source": []
  },
  {
   "cell_type": "markdown",
   "metadata": {},
   "source": []
  },
  {
   "cell_type": "code",
   "execution_count": null,
   "metadata": {},
   "outputs": [],
   "source": []
  }
 ],
 "metadata": {
  "kernelspec": {
   "display_name": "seq",
   "language": "python",
   "name": "python3"
  },
  "language_info": {
   "codemirror_mode": {
    "name": "ipython",
    "version": 3
   },
   "file_extension": ".py",
   "mimetype": "text/x-python",
   "name": "python",
   "nbconvert_exporter": "python",
   "pygments_lexer": "ipython3",
   "version": "3.12.3"
  }
 },
 "nbformat": 4,
 "nbformat_minor": 2
}
